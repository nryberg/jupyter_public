{
 "cells": [
  {
   "cell_type": "markdown",
   "metadata": {},
   "source": [
    "# Background"
   ]
  },
  {
   "cell_type": "markdown",
   "metadata": {},
   "source": [
    "### Imports and settings"
   ]
  },
  {
   "cell_type": "code",
   "execution_count": 31,
   "metadata": {},
   "outputs": [],
   "source": [
    "import requests\n",
    "from bs4 import BeautifulSoup\n",
    "from IPython.display import display_html\n",
    "import pandas as pd\n",
    "import unicodecsv as csv\n",
    "import base64\n",
    "from IPython.display import HTML\n",
    "from pprint import pformat, pprint\n",
    "\n",
    "headers = {'User-Agent': 'Mozilla/5.0 (Macintosh; Intel Mac OS X 10_11_5) AppleWebKit/537.36 (KHTML, like Gecko) Chrome/50.0.2661.102 Safari/537.36'}"
   ]
  },
  {
   "cell_type": "markdown",
   "metadata": {},
   "source": [
    "# Get the Data"
   ]
  },
  {
   "cell_type": "code",
   "execution_count": 75,
   "metadata": {},
   "outputs": [
    {
     "data": {
      "text/plain": [
       "['A',\n",
       " 'B',\n",
       " 'C',\n",
       " 'D',\n",
       " 'E',\n",
       " 'F',\n",
       " 'G',\n",
       " 'H',\n",
       " 'I',\n",
       " 'J',\n",
       " 'K',\n",
       " 'L',\n",
       " 'M',\n",
       " 'N',\n",
       " 'O',\n",
       " 'P',\n",
       " 'Q',\n",
       " 'R',\n",
       " 'S',\n",
       " 'T',\n",
       " 'U',\n",
       " 'V',\n",
       " 'W',\n",
       " 'X',\n",
       " 'Y',\n",
       " 'Z']"
      ]
     },
     "execution_count": 75,
     "metadata": {},
     "output_type": "execute_result"
    }
   ],
   "source": [
    "alpha = [ 'A','B','C','D','E','F','G','H','I','J','K','L','M','N','O','P','Q','R','S','T','U','V','W','X','Y','Z']\n",
    "alpha"
   ]
  },
  {
   "cell_type": "markdown",
   "metadata": {},
   "source": [
    "# Pull the data from Wikipedia"
   ]
  },
  {
   "cell_type": "code",
   "execution_count": 79,
   "metadata": {},
   "outputs": [
    {
     "name": "stdout",
     "output_type": "stream",
     "text": [
      "https://en.wikipedia.org/wiki/List_of_airports_by_IATA_airport_code:_A\n",
      "<Response [200]>\n",
      "https://en.wikipedia.org/wiki/List_of_airports_by_IATA_airport_code:_B\n",
      "<Response [200]>\n",
      "https://en.wikipedia.org/wiki/List_of_airports_by_IATA_airport_code:_C\n",
      "<Response [200]>\n",
      "https://en.wikipedia.org/wiki/List_of_airports_by_IATA_airport_code:_D\n",
      "<Response [200]>\n",
      "https://en.wikipedia.org/wiki/List_of_airports_by_IATA_airport_code:_E\n",
      "<Response [200]>\n",
      "https://en.wikipedia.org/wiki/List_of_airports_by_IATA_airport_code:_F\n",
      "<Response [200]>\n",
      "https://en.wikipedia.org/wiki/List_of_airports_by_IATA_airport_code:_G\n",
      "<Response [200]>\n",
      "https://en.wikipedia.org/wiki/List_of_airports_by_IATA_airport_code:_H\n",
      "<Response [200]>\n",
      "https://en.wikipedia.org/wiki/List_of_airports_by_IATA_airport_code:_I\n",
      "<Response [200]>\n",
      "https://en.wikipedia.org/wiki/List_of_airports_by_IATA_airport_code:_J\n",
      "<Response [200]>\n",
      "https://en.wikipedia.org/wiki/List_of_airports_by_IATA_airport_code:_K\n",
      "<Response [200]>\n",
      "https://en.wikipedia.org/wiki/List_of_airports_by_IATA_airport_code:_L\n",
      "<Response [200]>\n",
      "https://en.wikipedia.org/wiki/List_of_airports_by_IATA_airport_code:_M\n",
      "<Response [200]>\n",
      "https://en.wikipedia.org/wiki/List_of_airports_by_IATA_airport_code:_N\n",
      "<Response [200]>\n",
      "https://en.wikipedia.org/wiki/List_of_airports_by_IATA_airport_code:_O\n",
      "<Response [200]>\n",
      "https://en.wikipedia.org/wiki/List_of_airports_by_IATA_airport_code:_P\n",
      "<Response [200]>\n",
      "https://en.wikipedia.org/wiki/List_of_airports_by_IATA_airport_code:_Q\n",
      "<Response [200]>\n",
      "https://en.wikipedia.org/wiki/List_of_airports_by_IATA_airport_code:_R\n",
      "<Response [200]>\n",
      "https://en.wikipedia.org/wiki/List_of_airports_by_IATA_airport_code:_S\n",
      "<Response [200]>\n",
      "https://en.wikipedia.org/wiki/List_of_airports_by_IATA_airport_code:_T\n",
      "<Response [200]>\n",
      "https://en.wikipedia.org/wiki/List_of_airports_by_IATA_airport_code:_U\n",
      "<Response [200]>\n",
      "https://en.wikipedia.org/wiki/List_of_airports_by_IATA_airport_code:_V\n",
      "<Response [200]>\n",
      "https://en.wikipedia.org/wiki/List_of_airports_by_IATA_airport_code:_W\n",
      "<Response [200]>\n",
      "https://en.wikipedia.org/wiki/List_of_airports_by_IATA_airport_code:_X\n",
      "<Response [200]>\n",
      "https://en.wikipedia.org/wiki/List_of_airports_by_IATA_airport_code:_Y\n",
      "<Response [200]>\n",
      "https://en.wikipedia.org/wiki/List_of_airports_by_IATA_airport_code:_Z\n",
      "<Response [200]>\n"
     ]
    }
   ],
   "source": [
    "base_url = \"https://en.wikipedia.org/wiki/List_of_airports_by_IATA_airport_code:_\"\n",
    "frames = {}\n",
    "for i in alpha:\n",
    "    url = base_url + i\n",
    "    print(url)  \n",
    "    page = requests.get(url, headers=headers)\n",
    "    print(page)\n",
    "    soup = BeautifulSoup(page.content, 'html.parser', from_encoding='utf-8')\n",
    "    results = soup.find(\"table\")  # , {\"class\": \"wikitable sortable\"}\n",
    "    df = pd.read_html(results.prettify())[0]\n",
    "    frames[i] = df"
   ]
  },
  {
   "cell_type": "markdown",
   "metadata": {},
   "source": [
    "# Process the frames"
   ]
  },
  {
   "cell_type": "code",
   "execution_count": 176,
   "metadata": {},
   "outputs": [],
   "source": [
    "base = frames['A'].iloc[:,0:4]\n",
    "#base.columns = base.columns.droplevel(1)\n",
    "base.columns = ['IATA', 'ICAO', 'Airport', 'Location']\n",
    "keys = frames.keys()[1:]\n"
   ]
  },
  {
   "cell_type": "code",
   "execution_count": 177,
   "metadata": {},
   "outputs": [
    {
     "name": "stdout",
     "output_type": "stream",
     "text": [
      "B\n",
      "C\n",
      "D\n",
      "E\n",
      "F\n",
      "G\n",
      "H\n",
      "I\n",
      "J\n",
      "K\n",
      "L\n",
      "M\n",
      "N\n",
      "O\n",
      "P\n",
      "Q\n",
      "R\n",
      "S\n",
      "T\n",
      "U\n",
      "V\n",
      "W\n",
      "X\n",
      "Y\n",
      "Z\n"
     ]
    }
   ],
   "source": [
    "keys.sort()\n",
    "for key in keys:\n",
    "    \n",
    "    current = frames[key].iloc[:,0:4]\n",
    "\n",
    "    if current.columns.nlevels > 1:\n",
    "        current.columns = current.columns.droplevel(1)\n",
    "\n",
    "    current.columns = ['IATA', 'ICAO', 'Airport', 'Location']\n",
    "   \n",
    "    #fixed = current.iloc[:,0:4]\n",
    "    \n",
    "    base = pd.concat([base,current])\n",
    "    "
   ]
  },
  {
   "cell_type": "code",
   "execution_count": 178,
   "metadata": {},
   "outputs": [
    {
     "data": {
      "text/html": [
       "<div>\n",
       "<style scoped>\n",
       "    .dataframe tbody tr th:only-of-type {\n",
       "        vertical-align: middle;\n",
       "    }\n",
       "\n",
       "    .dataframe tbody tr th {\n",
       "        vertical-align: top;\n",
       "    }\n",
       "\n",
       "    .dataframe thead th {\n",
       "        text-align: right;\n",
       "    }\n",
       "</style>\n",
       "<table border=\"1\" class=\"dataframe\">\n",
       "  <thead>\n",
       "    <tr style=\"text-align: right;\">\n",
       "      <th></th>\n",
       "      <th>IATA</th>\n",
       "      <th>ICAO</th>\n",
       "      <th>Airport</th>\n",
       "      <th>Location</th>\n",
       "    </tr>\n",
       "  </thead>\n",
       "  <tbody>\n",
       "    <tr>\n",
       "      <th>0</th>\n",
       "      <td>AAA</td>\n",
       "      <td>NTGA</td>\n",
       "      <td>Anaa Airport</td>\n",
       "      <td>Anaa  ,  Tuamotus  ,  French Polynesia</td>\n",
       "    </tr>\n",
       "    <tr>\n",
       "      <th>1</th>\n",
       "      <td>AAB</td>\n",
       "      <td>YARY</td>\n",
       "      <td>Arrabury Airport</td>\n",
       "      <td>Arrabury  ,  Queensland  , Australia</td>\n",
       "    </tr>\n",
       "    <tr>\n",
       "      <th>2</th>\n",
       "      <td>AAC</td>\n",
       "      <td>HEAR</td>\n",
       "      <td>El Arish International Airport</td>\n",
       "      <td>El Arish  ,  Egypt</td>\n",
       "    </tr>\n",
       "    <tr>\n",
       "      <th>3</th>\n",
       "      <td>AAD</td>\n",
       "      <td>NaN</td>\n",
       "      <td>Adado Airport</td>\n",
       "      <td>Adado  (  Cadaado  ),  Galguduud  ,  Somalia</td>\n",
       "    </tr>\n",
       "    <tr>\n",
       "      <th>4</th>\n",
       "      <td>AAE</td>\n",
       "      <td>DABB</td>\n",
       "      <td>Rabah Bitat Airport  (Les Salines Airport)</td>\n",
       "      <td>Annaba  ,  Algeria</td>\n",
       "    </tr>\n",
       "    <tr>\n",
       "      <th>5</th>\n",
       "      <td>AAF</td>\n",
       "      <td>KAAF</td>\n",
       "      <td>Apalachicola Regional Airport</td>\n",
       "      <td>Apalachicola  ,  Florida  , United States</td>\n",
       "    </tr>\n",
       "    <tr>\n",
       "      <th>6</th>\n",
       "      <td>AAG</td>\n",
       "      <td>SSYA</td>\n",
       "      <td>Arapoti Airport</td>\n",
       "      <td>Arapoti  ,  Paraná  , Brazil</td>\n",
       "    </tr>\n",
       "    <tr>\n",
       "      <th>7</th>\n",
       "      <td>AAH</td>\n",
       "      <td>EDKA</td>\n",
       "      <td>Merzbrück Airport</td>\n",
       "      <td>Aachen  ,  North Rhine-Westphalia  , Germany</td>\n",
       "    </tr>\n",
       "    <tr>\n",
       "      <th>8</th>\n",
       "      <td>AAI</td>\n",
       "      <td>SWRA</td>\n",
       "      <td>Arraias Airport</td>\n",
       "      <td>Arraias  ,  Tocantins  , Brazil</td>\n",
       "    </tr>\n",
       "    <tr>\n",
       "      <th>9</th>\n",
       "      <td>AAJ</td>\n",
       "      <td>SMCA</td>\n",
       "      <td>Cayana Airstrip</td>\n",
       "      <td>Awaradam  ,  Suriname</td>\n",
       "    </tr>\n",
       "  </tbody>\n",
       "</table>\n",
       "</div>"
      ],
      "text/plain": [
       "  IATA  ICAO                                     Airport  \\\n",
       "0  AAA  NTGA                                Anaa Airport   \n",
       "1  AAB  YARY                            Arrabury Airport   \n",
       "2  AAC  HEAR              El Arish International Airport   \n",
       "3  AAD   NaN                               Adado Airport   \n",
       "4  AAE  DABB  Rabah Bitat Airport  (Les Salines Airport)   \n",
       "5  AAF  KAAF               Apalachicola Regional Airport   \n",
       "6  AAG  SSYA                             Arapoti Airport   \n",
       "7  AAH  EDKA                           Merzbrück Airport   \n",
       "8  AAI  SWRA                             Arraias Airport   \n",
       "9  AAJ  SMCA                             Cayana Airstrip   \n",
       "\n",
       "                                       Location  \n",
       "0        Anaa  ,  Tuamotus  ,  French Polynesia  \n",
       "1          Arrabury  ,  Queensland  , Australia  \n",
       "2                            El Arish  ,  Egypt  \n",
       "3  Adado  (  Cadaado  ),  Galguduud  ,  Somalia  \n",
       "4                            Annaba  ,  Algeria  \n",
       "5     Apalachicola  ,  Florida  , United States  \n",
       "6                  Arapoti  ,  Paraná  , Brazil  \n",
       "7  Aachen  ,  North Rhine-Westphalia  , Germany  \n",
       "8               Arraias  ,  Tocantins  , Brazil  \n",
       "9                         Awaradam  ,  Suriname  "
      ]
     },
     "execution_count": 178,
     "metadata": {},
     "output_type": "execute_result"
    }
   ],
   "source": [
    "\n",
    "\n",
    "base.head(3)\n"
   ]
  },
  {
   "cell_type": "markdown",
   "metadata": {},
   "source": [
    "# Export the file"
   ]
  },
  {
   "cell_type": "code",
   "execution_count": 180,
   "metadata": {},
   "outputs": [],
   "source": [
    "base.to_excel('airports.xlsx',index=False)"
   ]
  },
  {
   "cell_type": "code",
   "execution_count": null,
   "metadata": {},
   "outputs": [],
   "source": []
  }
 ],
 "metadata": {
  "kernelspec": {
   "display_name": "Python 3",
   "language": "python",
   "name": "python3"
  },
  "language_info": {
   "codemirror_mode": {
    "name": "ipython",
    "version": 2
   },
   "file_extension": ".py",
   "mimetype": "text/x-python",
   "name": "python",
   "nbconvert_exporter": "python",
   "pygments_lexer": "ipython2",
   "version": "2.7.17"
  }
 },
 "nbformat": 4,
 "nbformat_minor": 2
}
